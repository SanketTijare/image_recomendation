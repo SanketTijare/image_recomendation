{
 "cells": [
  {
   "cell_type": "code",
   "execution_count": null,
   "metadata": {},
   "outputs": [],
   "source": [
    "import torchvision\n",
    "import torch"
   ]
  },
  {
   "cell_type": "code",
   "execution_count": null,
   "metadata": {},
   "outputs": [],
   "source": [
    "import torchvision.models as models"
   ]
  },
  {
   "cell_type": "code",
   "execution_count": null,
   "metadata": {},
   "outputs": [],
   "source": [
    "vgg2 = models.vgg19(pretrained=True)"
   ]
  },
  {
   "cell_type": "code",
   "execution_count": null,
   "metadata": {},
   "outputs": [],
   "source": [
    "i = torch.rand(1, 3, 5, 5)\n",
    "output = vgg2.features[:1](i)\n",
    "print(output.shape)"
   ]
  },
  {
   "cell_type": "markdown",
   "metadata": {},
   "source": [
    "# Online - Test"
   ]
  },
  {
   "cell_type": "code",
   "execution_count": 1,
   "metadata": {},
   "outputs": [],
   "source": [
    "import torch\n",
    "import torch.nn as nn\n",
    "from torch.autograd import Variable\n",
    "from torchvision import models, transforms\n",
    "from PIL import Image\n",
    "import numpy as np\n",
    "import os, glob\n",
    "import random\n",
    "import pandas as pd\n",
    "from sklearn.metrics.pairwise import cosine_similarity"
   ]
  },
  {
   "cell_type": "code",
   "execution_count": 2,
   "metadata": {},
   "outputs": [],
   "source": [
    "class SetSeed:\n",
    "    def setter(self):\n",
    "        torch.manual_seed(42)\n",
    "        random.seed(42)\n",
    "        np.random.seed(42)"
   ]
  },
  {
   "cell_type": "code",
   "execution_count": 3,
   "metadata": {},
   "outputs": [],
   "source": [
    "SetSeed().setter()"
   ]
  },
  {
   "cell_type": "code",
   "execution_count": 4,
   "metadata": {},
   "outputs": [],
   "source": [
    "# data_dir = r\"C:\\MyDrive\\work\\self_project\\image_recomendation\\api-test-images\"  # train\n",
    "# features_dir = r\"C:\\MyDrive\\work\\self_project\\image_recomendation\\api-test-images\\features\""
   ]
  },
  {
   "cell_type": "code",
   "execution_count": 5,
   "metadata": {},
   "outputs": [],
   "source": [
    "data_dir = \"../../api-test-images/\"\n",
    "features_dir = r\"C:\\MyDrive\\work\\self_project\\image_recomendation\\api-test-images\\features\""
   ]
  },
  {
   "cell_type": "code",
   "execution_count": 6,
   "metadata": {},
   "outputs": [],
   "source": [
    "class Encoder(nn.Module):\n",
    "    def __init__(self):\n",
    "        super(Encoder, self).__init__()\n",
    "        VGG = models.vgg19(pretrained=True)\n",
    "        self.feature = VGG.features\n",
    "        self.classifier = nn.Sequential(*list(VGG.classifier.children())[:-3])\n",
    "        pretrained_dict = VGG.state_dict()\n",
    "        model_dict = self.classifier.state_dict()\n",
    "        pretrained_dict = {k: v for k, v in pretrained_dict.items() if k in model_dict}\n",
    "        model_dict.update(pretrained_dict)\n",
    "        self.classifier.load_state_dict(model_dict)\n",
    " \n",
    "    def forward(self, x):\n",
    "        output = self.feature(x)\n",
    "        output = output.view(output.size(0), -1)\n",
    "        output = self.classifier(output)\n",
    "        return output"
   ]
  },
  {
   "cell_type": "code",
   "execution_count": 7,
   "metadata": {},
   "outputs": [],
   "source": [
    "model = Encoder()"
   ]
  },
  {
   "cell_type": "code",
   "execution_count": 8,
   "metadata": {},
   "outputs": [],
   "source": [
    "def extractor(img_path, net, use_gpu):\n",
    "    transform = transforms.Compose([\n",
    "        transforms.Resize(256),\n",
    "        transforms.CenterCrop(224),\n",
    "        transforms.ToTensor()]\n",
    "    )\n",
    " \n",
    "    img = Image.open(img_path)\n",
    "    img = transform(img)\n",
    "    print(img.shape)\n",
    " \n",
    "    x = Variable(torch.unsqueeze(img, dim=0).float(), requires_grad=False)\n",
    "    print(x.shape)\n",
    " \n",
    "    if use_gpu:\n",
    "        x = x.cuda()\n",
    "        net = net.cuda()\n",
    "    y = net(x).cpu()\n",
    "    y = torch.squeeze(y)\n",
    "    y = y.data.numpy()\n",
    "    print(y.shape)\n",
    "#     np.savetxt(saved_path, y, delimiter=',')\n",
    "    return y\n"
   ]
  },
  {
   "cell_type": "code",
   "execution_count": 9,
   "metadata": {},
   "outputs": [],
   "source": [
    "extensions = ['jpg', 'jpeg', 'JPG', 'JPEG']"
   ]
  },
  {
   "cell_type": "code",
   "execution_count": 10,
   "metadata": {},
   "outputs": [
    {
     "name": "stdout",
     "output_type": "stream",
     "text": [
      "['../../api-test-images/7688415.411.jpg', '../../api-test-images/7688415.93554.jpg', '../../api-test-images/8016025.7294.jpg', '../../api-test-images/8021256.585.jpg', '../../api-test-images/8021257.158.jpg', '../../api-test-images/8084918.154841.jpg', '../../api-test-images/test.jpg']\n"
     ]
    }
   ],
   "source": [
    "    files_list = []\n",
    "    x = os.walk(data_dir)\n",
    "    for path, d, filelist in x:\n",
    "        for filename in filelist:\n",
    "            file_glob = os.path.join(path, filename)\n",
    "            files_list.extend(glob.glob(file_glob))\n",
    " \n",
    "    print(files_list)"
   ]
  },
  {
   "cell_type": "code",
   "execution_count": 11,
   "metadata": {},
   "outputs": [
    {
     "name": "stdout",
     "output_type": "stream",
     "text": [
      "x_path../../api-test-images/7688415.411.jpg\n",
      "torch.Size([3, 224, 224])\n",
      "torch.Size([1, 3, 224, 224])\n"
     ]
    },
    {
     "name": "stderr",
     "output_type": "stream",
     "text": [
      "C:\\ProgramData\\Anaconda3\\lib\\site-packages\\torch\\nn\\functional.py:718: UserWarning: Named tensors and all their associated APIs are an experimental feature and subject to change. Please do not use them for anything important until they are released as stable. (Triggered internally at  ..\\c10/core/TensorImpl.h:1156.)\n",
      "  return torch.max_pool2d(input, kernel_size, stride, padding, dilation, ceil_mode)\n"
     ]
    },
    {
     "name": "stdout",
     "output_type": "stream",
     "text": [
      "(4096,)\n",
      "x_path../../api-test-images/7688415.93554.jpg\n",
      "torch.Size([3, 224, 224])\n",
      "torch.Size([1, 3, 224, 224])\n",
      "(4096,)\n",
      "x_path../../api-test-images/8016025.7294.jpg\n",
      "torch.Size([3, 224, 224])\n",
      "torch.Size([1, 3, 224, 224])\n",
      "(4096,)\n",
      "x_path../../api-test-images/8021256.585.jpg\n",
      "torch.Size([3, 224, 224])\n",
      "torch.Size([1, 3, 224, 224])\n",
      "(4096,)\n",
      "x_path../../api-test-images/8021257.158.jpg\n",
      "torch.Size([3, 224, 224])\n",
      "torch.Size([1, 3, 224, 224])\n",
      "(4096,)\n",
      "x_path../../api-test-images/8084918.154841.jpg\n",
      "torch.Size([3, 224, 224])\n",
      "torch.Size([1, 3, 224, 224])\n",
      "(4096,)\n",
      "x_path../../api-test-images/test.jpg\n",
      "torch.Size([3, 224, 224])\n",
      "torch.Size([1, 3, 224, 224])\n",
      "(4096,)\n"
     ]
    }
   ],
   "source": [
    "filename = []\n",
    "features = []\n",
    "for x_path in files_list:\n",
    "        print(\"x_path\" + x_path)\n",
    "        file_name = x_path.split('/')[-1]\n",
    "        bottleneck_features = extractor(x_path, model, False)\n",
    "        filename.append(x_path)\n",
    "        features.append(list(bottleneck_features.reshape(1,-1)))"
   ]
  },
  {
   "cell_type": "code",
   "execution_count": 12,
   "metadata": {},
   "outputs": [],
   "source": [
    "# features[0]"
   ]
  },
  {
   "cell_type": "code",
   "execution_count": 13,
   "metadata": {},
   "outputs": [
    {
     "name": "stdout",
     "output_type": "stream",
     "text": [
      "../../api-test-images/7688415.411.jpg\n",
      "[[0.6716096]]\n",
      "**--****--****--****--****--****--****--****--****--****--****--****--****--****--****--****--****--****--****--****--**\n",
      "../../api-test-images/7688415.93554.jpg\n",
      "[[0.5857068]]\n",
      "**--****--****--****--****--****--****--****--****--****--****--****--****--****--****--****--****--****--****--****--**\n",
      "../../api-test-images/8016025.7294.jpg\n",
      "[[0.42096156]]\n",
      "**--****--****--****--****--****--****--****--****--****--****--****--****--****--****--****--****--****--****--****--**\n",
      "../../api-test-images/8021256.585.jpg\n",
      "[[0.99999994]]\n",
      "**--****--****--****--****--****--****--****--****--****--****--****--****--****--****--****--****--****--****--****--**\n",
      "../../api-test-images/8021257.158.jpg\n",
      "[[0.68518484]]\n",
      "**--****--****--****--****--****--****--****--****--****--****--****--****--****--****--****--****--****--****--****--**\n",
      "../../api-test-images/8084918.154841.jpg\n",
      "[[0.49411142]]\n",
      "**--****--****--****--****--****--****--****--****--****--****--****--****--****--****--****--****--****--****--****--**\n",
      "../../api-test-images/test.jpg\n",
      "[[0.4024333]]\n",
      "**--****--****--****--****--****--****--****--****--****--****--****--****--****--****--****--****--****--****--****--**\n"
     ]
    }
   ],
   "source": [
    "for f in range(len(features)):\n",
    "    print(filename[f])\n",
    "    print(cosine_similarity(features[3], features[f]))\n",
    "    print(\"**--**\"*20)"
   ]
  },
  {
   "cell_type": "code",
   "execution_count": null,
   "metadata": {},
   "outputs": [],
   "source": []
  },
  {
   "cell_type": "code",
   "execution_count": null,
   "metadata": {},
   "outputs": [],
   "source": []
  },
  {
   "cell_type": "code",
   "execution_count": null,
   "metadata": {},
   "outputs": [],
   "source": []
  },
  {
   "cell_type": "code",
   "execution_count": null,
   "metadata": {},
   "outputs": [],
   "source": []
  },
  {
   "cell_type": "code",
   "execution_count": null,
   "metadata": {},
   "outputs": [],
   "source": []
  },
  {
   "cell_type": "code",
   "execution_count": null,
   "metadata": {},
   "outputs": [],
   "source": []
  },
  {
   "cell_type": "code",
   "execution_count": null,
   "metadata": {},
   "outputs": [],
   "source": []
  },
  {
   "cell_type": "code",
   "execution_count": null,
   "metadata": {},
   "outputs": [],
   "source": []
  },
  {
   "cell_type": "code",
   "execution_count": 26,
   "metadata": {},
   "outputs": [],
   "source": [
    "data = pd.DataFrame({\"FileName\": filename, \"features\": features})"
   ]
  },
  {
   "cell_type": "code",
   "execution_count": 27,
   "metadata": {},
   "outputs": [],
   "source": [
    "# features[0]"
   ]
  },
  {
   "cell_type": "code",
   "execution_count": 28,
   "metadata": {},
   "outputs": [
    {
     "data": {
      "text/html": [
       "<div>\n",
       "<style scoped>\n",
       "    .dataframe tbody tr th:only-of-type {\n",
       "        vertical-align: middle;\n",
       "    }\n",
       "\n",
       "    .dataframe tbody tr th {\n",
       "        vertical-align: top;\n",
       "    }\n",
       "\n",
       "    .dataframe thead th {\n",
       "        text-align: right;\n",
       "    }\n",
       "</style>\n",
       "<table border=\"1\" class=\"dataframe\">\n",
       "  <thead>\n",
       "    <tr style=\"text-align: right;\">\n",
       "      <th></th>\n",
       "      <th>FileName</th>\n",
       "      <th>features</th>\n",
       "    </tr>\n",
       "  </thead>\n",
       "  <tbody>\n",
       "    <tr>\n",
       "      <th>0</th>\n",
       "      <td>../../api-test-images/7688415.411.jpg</td>\n",
       "      <td>[[-1.9931037, -1.8752654, -2.9238546, 0.274329...</td>\n",
       "    </tr>\n",
       "    <tr>\n",
       "      <th>1</th>\n",
       "      <td>../../api-test-images/7688415.93554.jpg</td>\n",
       "      <td>[[-1.5990303, -2.5206456, -1.9668546, 0.257537...</td>\n",
       "    </tr>\n",
       "    <tr>\n",
       "      <th>2</th>\n",
       "      <td>../../api-test-images/8016025.7294.jpg</td>\n",
       "      <td>[[0.24607146, -2.8339028, -1.4787565, 0.940413...</td>\n",
       "    </tr>\n",
       "    <tr>\n",
       "      <th>3</th>\n",
       "      <td>../../api-test-images/8021256.585.jpg</td>\n",
       "      <td>[[-1.8691487, -0.112221465, -1.5841146, 0.0016...</td>\n",
       "    </tr>\n",
       "    <tr>\n",
       "      <th>4</th>\n",
       "      <td>../../api-test-images/8021257.158.jpg</td>\n",
       "      <td>[[-0.8288594, -0.22768264, -1.1380577, -1.1019...</td>\n",
       "    </tr>\n",
       "  </tbody>\n",
       "</table>\n",
       "</div>"
      ],
      "text/plain": [
       "                                  FileName  \\\n",
       "0    ../../api-test-images/7688415.411.jpg   \n",
       "1  ../../api-test-images/7688415.93554.jpg   \n",
       "2   ../../api-test-images/8016025.7294.jpg   \n",
       "3    ../../api-test-images/8021256.585.jpg   \n",
       "4    ../../api-test-images/8021257.158.jpg   \n",
       "\n",
       "                                            features  \n",
       "0  [[-1.9931037, -1.8752654, -2.9238546, 0.274329...  \n",
       "1  [[-1.5990303, -2.5206456, -1.9668546, 0.257537...  \n",
       "2  [[0.24607146, -2.8339028, -1.4787565, 0.940413...  \n",
       "3  [[-1.8691487, -0.112221465, -1.5841146, 0.0016...  \n",
       "4  [[-0.8288594, -0.22768264, -1.1380577, -1.1019...  "
      ]
     },
     "execution_count": 28,
     "metadata": {},
     "output_type": "execute_result"
    }
   ],
   "source": [
    "data.head()"
   ]
  },
  {
   "cell_type": "code",
   "execution_count": 29,
   "metadata": {},
   "outputs": [
    {
     "data": {
      "text/plain": [
       "array([-1.9931037 , -1.8752654 , -2.9238546 , ...,  0.26278403,\n",
       "       -2.3719916 , -0.4103165 ], dtype=float32)"
      ]
     },
     "execution_count": 29,
     "metadata": {},
     "output_type": "execute_result"
    }
   ],
   "source": [
    "data['features'].tolist()[0][0]"
   ]
  },
  {
   "cell_type": "code",
   "execution_count": 30,
   "metadata": {},
   "outputs": [
    {
     "name": "stdout",
     "output_type": "stream",
     "text": [
      "<class 'pandas.core.frame.DataFrame'>\n",
      "RangeIndex: 7 entries, 0 to 6\n",
      "Data columns (total 2 columns):\n",
      " #   Column    Non-Null Count  Dtype \n",
      "---  ------    --------------  ----- \n",
      " 0   FileName  7 non-null      object\n",
      " 1   features  7 non-null      object\n",
      "dtypes: object(2)\n",
      "memory usage: 240.0+ bytes\n"
     ]
    }
   ],
   "source": [
    "data.info()"
   ]
  },
  {
   "cell_type": "code",
   "execution_count": 45,
   "metadata": {},
   "outputs": [],
   "source": [
    "data.to_pickle('d.pkl')\n",
    "data.to_csv('d.csv', index=False)"
   ]
  },
  {
   "cell_type": "code",
   "execution_count": 80,
   "metadata": {},
   "outputs": [],
   "source": [
    "data_list_dict = data.to_dict('records')"
   ]
  },
  {
   "cell_type": "code",
   "execution_count": 83,
   "metadata": {},
   "outputs": [
    {
     "data": {
      "text/plain": [
       "[{'FileName': '../../api-test-images/7688415.411.jpg',\n",
       "  'features': [array([-1.9931037 , -1.8752654 , -2.9238546 , ...,  0.26278403,\n",
       "          -2.3719916 , -0.4103165 ], dtype=float32)]},\n",
       " {'FileName': '../../api-test-images/7688415.93554.jpg',\n",
       "  'features': [array([-1.5990303, -2.5206456, -1.9668546, ...,  0.6526101, -1.3538702,\n",
       "          -1.397386 ], dtype=float32)]},\n",
       " {'FileName': '../../api-test-images/8016025.7294.jpg',\n",
       "  'features': [array([ 0.24607146, -2.8339028 , -1.4787565 , ...,  0.11486907,\n",
       "          -0.39319983, -1.0733975 ], dtype=float32)]},\n",
       " {'FileName': '../../api-test-images/8021256.585.jpg',\n",
       "  'features': [array([-1.8691487 , -0.11222146, -1.5841146 , ...,  1.1097003 ,\n",
       "          -1.1005354 , -0.22999443], dtype=float32)]},\n",
       " {'FileName': '../../api-test-images/8021257.158.jpg',\n",
       "  'features': [array([-0.8288594 , -0.22768264, -1.1380577 , ...,  0.97883475,\n",
       "          -1.4303892 , -0.63086367], dtype=float32)]},\n",
       " {'FileName': '../../api-test-images/8084918.154841.jpg',\n",
       "  'features': [array([-0.43738708, -1.0338644 , -1.4146161 , ...,  0.9800007 ,\n",
       "          -0.37649512,  0.00330638], dtype=float32)]},\n",
       " {'FileName': '../../api-test-images/test.jpg',\n",
       "  'features': [array([ 0.09228573, -0.74533087, -2.8129838 , ..., -0.46385816,\n",
       "          -0.6739795 , -2.4832826 ], dtype=float32)]}]"
      ]
     },
     "execution_count": 83,
     "metadata": {},
     "output_type": "execute_result"
    }
   ],
   "source": [
    "data_list_dict"
   ]
  },
  {
   "cell_type": "code",
   "execution_count": 84,
   "metadata": {},
   "outputs": [],
   "source": [
    "gg = [{'name': 'a', \"similarity\":0.2}, {'name': 'a', \"similarity\":0.99}, {'name': 'a', \"similarity\":0.24}, {'name': 'a', \"similarity\":0.52}]"
   ]
  },
  {
   "cell_type": "code",
   "execution_count": 85,
   "metadata": {},
   "outputs": [
    {
     "data": {
      "text/plain": [
       "[{'name': 'a', 'similarity': 0.2},\n",
       " {'name': 'a', 'similarity': 0.99},\n",
       " {'name': 'a', 'similarity': 0.24},\n",
       " {'name': 'a', 'similarity': 0.52}]"
      ]
     },
     "execution_count": 85,
     "metadata": {},
     "output_type": "execute_result"
    }
   ],
   "source": [
    "gg"
   ]
  },
  {
   "cell_type": "code",
   "execution_count": 86,
   "metadata": {},
   "outputs": [],
   "source": [
    "def sim_sort(x):\n",
    "    return x['similarity']"
   ]
  },
  {
   "cell_type": "code",
   "execution_count": 89,
   "metadata": {},
   "outputs": [],
   "source": [
    "gg.sort(key=sim_sort, reverse=True)"
   ]
  },
  {
   "cell_type": "code",
   "execution_count": 90,
   "metadata": {},
   "outputs": [
    {
     "data": {
      "text/plain": [
       "[{'name': 'a', 'similarity': 0.99},\n",
       " {'name': 'a', 'similarity': 0.52},\n",
       " {'name': 'a', 'similarity': 0.24},\n",
       " {'name': 'a', 'similarity': 0.2}]"
      ]
     },
     "execution_count": 90,
     "metadata": {},
     "output_type": "execute_result"
    }
   ],
   "source": [
    "gg"
   ]
  },
  {
   "cell_type": "code",
   "execution_count": null,
   "metadata": {},
   "outputs": [],
   "source": []
  },
  {
   "cell_type": "code",
   "execution_count": null,
   "metadata": {},
   "outputs": [],
   "source": []
  },
  {
   "cell_type": "code",
   "execution_count": 79,
   "metadata": {},
   "outputs": [
    {
     "data": {
      "text/plain": [
       "array([[0.99999994]], dtype=float32)"
      ]
     },
     "execution_count": 79,
     "metadata": {},
     "output_type": "execute_result"
    }
   ],
   "source": [
    "cosine_similarity(features[3], data.to_dict('records')[3]['features'])"
   ]
  },
  {
   "cell_type": "code",
   "execution_count": null,
   "metadata": {},
   "outputs": [],
   "source": []
  },
  {
   "cell_type": "code",
   "execution_count": null,
   "metadata": {},
   "outputs": [],
   "source": []
  },
  {
   "cell_type": "code",
   "execution_count": null,
   "metadata": {},
   "outputs": [],
   "source": []
  },
  {
   "cell_type": "code",
   "execution_count": null,
   "metadata": {},
   "outputs": [],
   "source": []
  },
  {
   "cell_type": "code",
   "execution_count": null,
   "metadata": {},
   "outputs": [],
   "source": []
  },
  {
   "cell_type": "code",
   "execution_count": 46,
   "metadata": {},
   "outputs": [],
   "source": [
    "c = pd.read_pickle('d.pkl')"
   ]
  },
  {
   "cell_type": "code",
   "execution_count": 51,
   "metadata": {},
   "outputs": [],
   "source": [
    "z = pd.read_csv('d.csv')"
   ]
  },
  {
   "cell_type": "code",
   "execution_count": 52,
   "metadata": {},
   "outputs": [
    {
     "data": {
      "text/html": [
       "<div>\n",
       "<style scoped>\n",
       "    .dataframe tbody tr th:only-of-type {\n",
       "        vertical-align: middle;\n",
       "    }\n",
       "\n",
       "    .dataframe tbody tr th {\n",
       "        vertical-align: top;\n",
       "    }\n",
       "\n",
       "    .dataframe thead th {\n",
       "        text-align: right;\n",
       "    }\n",
       "</style>\n",
       "<table border=\"1\" class=\"dataframe\">\n",
       "  <thead>\n",
       "    <tr style=\"text-align: right;\">\n",
       "      <th></th>\n",
       "      <th>FileName</th>\n",
       "      <th>features</th>\n",
       "    </tr>\n",
       "  </thead>\n",
       "  <tbody>\n",
       "    <tr>\n",
       "      <th>0</th>\n",
       "      <td>../../api-test-images/7688415.411.jpg</td>\n",
       "      <td>[array([-1.9931037 , -1.8752654 , -2.9238546 ,...</td>\n",
       "    </tr>\n",
       "    <tr>\n",
       "      <th>1</th>\n",
       "      <td>../../api-test-images/7688415.93554.jpg</td>\n",
       "      <td>[array([-1.5990303, -2.5206456, -1.9668546, .....</td>\n",
       "    </tr>\n",
       "    <tr>\n",
       "      <th>2</th>\n",
       "      <td>../../api-test-images/8016025.7294.jpg</td>\n",
       "      <td>[array([ 0.24607146, -2.8339028 , -1.4787565 ,...</td>\n",
       "    </tr>\n",
       "    <tr>\n",
       "      <th>3</th>\n",
       "      <td>../../api-test-images/8021256.585.jpg</td>\n",
       "      <td>[array([-1.8691487 , -0.11222146, -1.5841146 ,...</td>\n",
       "    </tr>\n",
       "    <tr>\n",
       "      <th>4</th>\n",
       "      <td>../../api-test-images/8021257.158.jpg</td>\n",
       "      <td>[array([-0.8288594 , -0.22768264, -1.1380577 ,...</td>\n",
       "    </tr>\n",
       "  </tbody>\n",
       "</table>\n",
       "</div>"
      ],
      "text/plain": [
       "                                  FileName  \\\n",
       "0    ../../api-test-images/7688415.411.jpg   \n",
       "1  ../../api-test-images/7688415.93554.jpg   \n",
       "2   ../../api-test-images/8016025.7294.jpg   \n",
       "3    ../../api-test-images/8021256.585.jpg   \n",
       "4    ../../api-test-images/8021257.158.jpg   \n",
       "\n",
       "                                            features  \n",
       "0  [array([-1.9931037 , -1.8752654 , -2.9238546 ,...  \n",
       "1  [array([-1.5990303, -2.5206456, -1.9668546, .....  \n",
       "2  [array([ 0.24607146, -2.8339028 , -1.4787565 ,...  \n",
       "3  [array([-1.8691487 , -0.11222146, -1.5841146 ,...  \n",
       "4  [array([-0.8288594 , -0.22768264, -1.1380577 ,...  "
      ]
     },
     "execution_count": 52,
     "metadata": {},
     "output_type": "execute_result"
    }
   ],
   "source": [
    "z.head()"
   ]
  },
  {
   "cell_type": "code",
   "execution_count": 53,
   "metadata": {},
   "outputs": [
    {
     "data": {
      "text/html": [
       "<div>\n",
       "<style scoped>\n",
       "    .dataframe tbody tr th:only-of-type {\n",
       "        vertical-align: middle;\n",
       "    }\n",
       "\n",
       "    .dataframe tbody tr th {\n",
       "        vertical-align: top;\n",
       "    }\n",
       "\n",
       "    .dataframe thead th {\n",
       "        text-align: right;\n",
       "    }\n",
       "</style>\n",
       "<table border=\"1\" class=\"dataframe\">\n",
       "  <thead>\n",
       "    <tr style=\"text-align: right;\">\n",
       "      <th></th>\n",
       "      <th>FileName</th>\n",
       "      <th>features</th>\n",
       "    </tr>\n",
       "  </thead>\n",
       "  <tbody>\n",
       "    <tr>\n",
       "      <th>0</th>\n",
       "      <td>../../api-test-images/7688415.411.jpg</td>\n",
       "      <td>[[-1.9931037, -1.8752654, -2.9238546, 0.274329...</td>\n",
       "    </tr>\n",
       "    <tr>\n",
       "      <th>1</th>\n",
       "      <td>../../api-test-images/7688415.93554.jpg</td>\n",
       "      <td>[[-1.5990303, -2.5206456, -1.9668546, 0.257537...</td>\n",
       "    </tr>\n",
       "    <tr>\n",
       "      <th>2</th>\n",
       "      <td>../../api-test-images/8016025.7294.jpg</td>\n",
       "      <td>[[0.24607146, -2.8339028, -1.4787565, 0.940413...</td>\n",
       "    </tr>\n",
       "    <tr>\n",
       "      <th>3</th>\n",
       "      <td>../../api-test-images/8021256.585.jpg</td>\n",
       "      <td>[[-1.8691487, -0.112221465, -1.5841146, 0.0016...</td>\n",
       "    </tr>\n",
       "    <tr>\n",
       "      <th>4</th>\n",
       "      <td>../../api-test-images/8021257.158.jpg</td>\n",
       "      <td>[[-0.8288594, -0.22768264, -1.1380577, -1.1019...</td>\n",
       "    </tr>\n",
       "  </tbody>\n",
       "</table>\n",
       "</div>"
      ],
      "text/plain": [
       "                                  FileName  \\\n",
       "0    ../../api-test-images/7688415.411.jpg   \n",
       "1  ../../api-test-images/7688415.93554.jpg   \n",
       "2   ../../api-test-images/8016025.7294.jpg   \n",
       "3    ../../api-test-images/8021256.585.jpg   \n",
       "4    ../../api-test-images/8021257.158.jpg   \n",
       "\n",
       "                                            features  \n",
       "0  [[-1.9931037, -1.8752654, -2.9238546, 0.274329...  \n",
       "1  [[-1.5990303, -2.5206456, -1.9668546, 0.257537...  \n",
       "2  [[0.24607146, -2.8339028, -1.4787565, 0.940413...  \n",
       "3  [[-1.8691487, -0.112221465, -1.5841146, 0.0016...  \n",
       "4  [[-0.8288594, -0.22768264, -1.1380577, -1.1019...  "
      ]
     },
     "execution_count": 53,
     "metadata": {},
     "output_type": "execute_result"
    }
   ],
   "source": [
    "c.head()"
   ]
  },
  {
   "cell_type": "code",
   "execution_count": 54,
   "metadata": {},
   "outputs": [
    {
     "data": {
      "text/html": [
       "<div>\n",
       "<style scoped>\n",
       "    .dataframe tbody tr th:only-of-type {\n",
       "        vertical-align: middle;\n",
       "    }\n",
       "\n",
       "    .dataframe tbody tr th {\n",
       "        vertical-align: top;\n",
       "    }\n",
       "\n",
       "    .dataframe thead th {\n",
       "        text-align: right;\n",
       "    }\n",
       "</style>\n",
       "<table border=\"1\" class=\"dataframe\">\n",
       "  <thead>\n",
       "    <tr style=\"text-align: right;\">\n",
       "      <th></th>\n",
       "      <th>FileName</th>\n",
       "      <th>features</th>\n",
       "    </tr>\n",
       "  </thead>\n",
       "  <tbody>\n",
       "    <tr>\n",
       "      <th>0</th>\n",
       "      <td>../../api-test-images/7688415.411.jpg</td>\n",
       "      <td>[[-1.9931037, -1.8752654, -2.9238546, 0.274329...</td>\n",
       "    </tr>\n",
       "    <tr>\n",
       "      <th>1</th>\n",
       "      <td>../../api-test-images/7688415.93554.jpg</td>\n",
       "      <td>[[-1.5990303, -2.5206456, -1.9668546, 0.257537...</td>\n",
       "    </tr>\n",
       "    <tr>\n",
       "      <th>2</th>\n",
       "      <td>../../api-test-images/8016025.7294.jpg</td>\n",
       "      <td>[[0.24607146, -2.8339028, -1.4787565, 0.940413...</td>\n",
       "    </tr>\n",
       "    <tr>\n",
       "      <th>3</th>\n",
       "      <td>../../api-test-images/8021256.585.jpg</td>\n",
       "      <td>[[-1.8691487, -0.112221465, -1.5841146, 0.0016...</td>\n",
       "    </tr>\n",
       "    <tr>\n",
       "      <th>4</th>\n",
       "      <td>../../api-test-images/8021257.158.jpg</td>\n",
       "      <td>[[-0.8288594, -0.22768264, -1.1380577, -1.1019...</td>\n",
       "    </tr>\n",
       "  </tbody>\n",
       "</table>\n",
       "</div>"
      ],
      "text/plain": [
       "                                  FileName  \\\n",
       "0    ../../api-test-images/7688415.411.jpg   \n",
       "1  ../../api-test-images/7688415.93554.jpg   \n",
       "2   ../../api-test-images/8016025.7294.jpg   \n",
       "3    ../../api-test-images/8021256.585.jpg   \n",
       "4    ../../api-test-images/8021257.158.jpg   \n",
       "\n",
       "                                            features  \n",
       "0  [[-1.9931037, -1.8752654, -2.9238546, 0.274329...  \n",
       "1  [[-1.5990303, -2.5206456, -1.9668546, 0.257537...  \n",
       "2  [[0.24607146, -2.8339028, -1.4787565, 0.940413...  \n",
       "3  [[-1.8691487, -0.112221465, -1.5841146, 0.0016...  \n",
       "4  [[-0.8288594, -0.22768264, -1.1380577, -1.1019...  "
      ]
     },
     "execution_count": 54,
     "metadata": {},
     "output_type": "execute_result"
    }
   ],
   "source": [
    "data.head()"
   ]
  },
  {
   "cell_type": "code",
   "execution_count": null,
   "metadata": {},
   "outputs": [],
   "source": [
    "import matplotlib.pyplot as plt\n",
    "from PIL import Image\n",
    "import numpy as np\n",
    "\n",
    "pil_im = Image.open(filename[3]) #Take jpg + png\n",
    "## Uncomment to open from URL\n",
    "#import requests\n",
    "#r = requests.get('https://www.vegvesen.no/public/webkamera/kamera?id=131206')\n",
    "#pil_im = Image.open(BytesIO(r.content))\n",
    "im_array = np.asarray(pil_im)\n",
    "plt.imshow(im_array)\n",
    "plt.show()"
   ]
  },
  {
   "cell_type": "code",
   "execution_count": null,
   "metadata": {},
   "outputs": [],
   "source": [
    "pil_im = Image.open(filename[4]) #Take jpg + png\n",
    "## Uncomment to open from URL\n",
    "#import requests\n",
    "#r = requests.get('https://www.vegvesen.no/public/webkamera/kamera?id=131206')\n",
    "#pil_im = Image.open(BytesIO(r.content))\n",
    "im_array = np.asarray(pil_im)\n",
    "plt.imshow(im_array)\n",
    "plt.show()"
   ]
  },
  {
   "cell_type": "code",
   "execution_count": null,
   "metadata": {},
   "outputs": [],
   "source": []
  },
  {
   "cell_type": "code",
   "execution_count": null,
   "metadata": {},
   "outputs": [],
   "source": []
  },
  {
   "cell_type": "markdown",
   "metadata": {},
   "source": [
    "# Understand Vgg"
   ]
  },
  {
   "cell_type": "code",
   "execution_count": null,
   "metadata": {},
   "outputs": [],
   "source": [
    "class Encoder(nn.Module):\n",
    "    def __init__(self):\n",
    "        super(Encoder, self).__init__()\n",
    "        VGG = models.vgg19(pretrained=True)\n",
    "        self.feature = VGG.features\n",
    "        self.classifier = nn.Sequential(*list(VGG.classifier.children())[:-3])\n",
    "        pretrained_dict = VGG.state_dict()\n",
    "        model_dict = self.classifier.state_dict()\n",
    "        pretrained_dict = {k: v for k, v in pretrained_dict.items() if k in model_dict}\n",
    "        model_dict.update(pretrained_dict)\n",
    "        self.classifier.load_state_dict(model_dict)\n",
    " \n",
    "    def forward(self, x):\n",
    "        output = self.feature(x)\n",
    "        output = output.view(output.size(0), -1)\n",
    "        output = self.classifier(output)\n",
    "        return output"
   ]
  },
  {
   "cell_type": "code",
   "execution_count": null,
   "metadata": {},
   "outputs": [],
   "source": [
    "VGG = models.vgg19(pretrained=True)"
   ]
  },
  {
   "cell_type": "code",
   "execution_count": null,
   "metadata": {},
   "outputs": [],
   "source": [
    "feature = VGG.features"
   ]
  },
  {
   "cell_type": "code",
   "execution_count": null,
   "metadata": {},
   "outputs": [],
   "source": [
    "feature"
   ]
  },
  {
   "cell_type": "code",
   "execution_count": null,
   "metadata": {},
   "outputs": [],
   "source": [
    "list(VGG.classifier.children())"
   ]
  },
  {
   "cell_type": "code",
   "execution_count": null,
   "metadata": {},
   "outputs": [],
   "source": [
    "classifier = nn.Sequential(*list(VGG.classifier.children()))"
   ]
  },
  {
   "cell_type": "code",
   "execution_count": null,
   "metadata": {},
   "outputs": [],
   "source": [
    "classifier"
   ]
  },
  {
   "cell_type": "code",
   "execution_count": null,
   "metadata": {},
   "outputs": [],
   "source": [
    "pretrained_dict = VGG.state_dict()"
   ]
  },
  {
   "cell_type": "code",
   "execution_count": null,
   "metadata": {},
   "outputs": [],
   "source": [
    "model_dict = classifier.state_dict()"
   ]
  },
  {
   "cell_type": "code",
   "execution_count": null,
   "metadata": {},
   "outputs": [],
   "source": [
    "pretrained_dict = {k: v for k, v in pretrained_dict.items() if k in model_dict}"
   ]
  },
  {
   "cell_type": "code",
   "execution_count": null,
   "metadata": {},
   "outputs": [],
   "source": [
    "pretrained_dict"
   ]
  },
  {
   "cell_type": "code",
   "execution_count": null,
   "metadata": {},
   "outputs": [],
   "source": [
    "model_dict.update(pretrained_dict)"
   ]
  },
  {
   "cell_type": "code",
   "execution_count": null,
   "metadata": {},
   "outputs": [],
   "source": [
    "classifier.load_state_dict(model_dict)"
   ]
  },
  {
   "cell_type": "code",
   "execution_count": 55,
   "metadata": {},
   "outputs": [],
   "source": [
    "BOOTS_DATA_PATH = '../../data/boots/'"
   ]
  },
  {
   "cell_type": "code",
   "execution_count": 57,
   "metadata": {},
   "outputs": [
    {
     "data": {
      "text/plain": [
       "'boots'"
      ]
     },
     "execution_count": 57,
     "metadata": {},
     "output_type": "execute_result"
    }
   ],
   "source": [
    "BOOTS_DATA_PATH.split(\"/\")[-2]"
   ]
  },
  {
   "cell_type": "code",
   "execution_count": 58,
   "metadata": {},
   "outputs": [],
   "source": [
    "DB_PATH = '../db/'"
   ]
  },
  {
   "cell_type": "code",
   "execution_count": 60,
   "metadata": {},
   "outputs": [
    {
     "data": {
      "text/plain": [
       "'../db/boots.pkl'"
      ]
     },
     "execution_count": 60,
     "metadata": {},
     "output_type": "execute_result"
    }
   ],
   "source": [
    "os.path.join(DB_PATH, BOOTS_DATA_PATH.split(\"/\")[-2] + \".pkl\")"
   ]
  },
  {
   "cell_type": "code",
   "execution_count": 65,
   "metadata": {},
   "outputs": [],
   "source": [
    "x = os.walk(BOOTS_DATA_PATH)"
   ]
  },
  {
   "cell_type": "code",
   "execution_count": 62,
   "metadata": {},
   "outputs": [
    {
     "data": {
      "text/plain": [
       "<generator object walk at 0x0000015E73B59580>"
      ]
     },
     "execution_count": 62,
     "metadata": {},
     "output_type": "execute_result"
    }
   ],
   "source": [
    "x"
   ]
  },
  {
   "cell_type": "code",
   "execution_count": 66,
   "metadata": {},
   "outputs": [
    {
     "name": "stdout",
     "output_type": "stream",
     "text": [
      "../../data/boots/7688415.411.jpg\n",
      "../../data/boots/7688415.93554.jpg\n",
      "../../data/boots/7688434.324313.jpg\n",
      "../../data/boots/7688434.355364.jpg\n",
      "../../data/boots/7688434.60041.jpg\n",
      "../../data/boots/7688520.253817.jpg\n",
      "../../data/boots/7688520.3.jpg\n",
      "../../data/boots/7688520.4854.jpg\n",
      "../../data/boots/7688520.84362.jpg\n",
      "../../data/boots/7688520.93554.jpg\n",
      "../../data/boots/7811851.3.jpg\n",
      "../../data/boots/7811851.6.jpg\n",
      "../../data/boots/7877187.904.jpg\n",
      "../../data/boots/7920102.216.jpg\n",
      "../../data/boots/7920102.236038.jpg\n",
      "../../data/boots/7920102.72.jpg\n",
      "../../data/boots/7983495.341.jpg\n",
      "../../data/boots/7983530.3.jpg\n",
      "../../data/boots/7983530.5578.jpg\n",
      "../../data/boots/7983530.66261.jpg\n",
      "../../data/boots/7983530.76119.jpg\n",
      "../../data/boots/7983551.341.jpg\n",
      "../../data/boots/7983551.66261.jpg\n",
      "../../data/boots/7987475.158.jpg\n",
      "../../data/boots/7987475.18.jpg\n",
      "../../data/boots/7987475.396.jpg\n",
      "../../data/boots/7987475.607.jpg\n",
      "../../data/boots/7987480.1137.jpg\n",
      "../../data/boots/7987480.80.jpg\n",
      "../../data/boots/7987480.9953.jpg\n",
      "../../data/boots/7999610.3.jpg\n",
      "../../data/boots/7999610.574.jpg\n",
      "../../data/boots/8016025.248290.jpg\n",
      "../../data/boots/8016025.7294.jpg\n",
      "../../data/boots/8016044.23659.jpg\n",
      "../../data/boots/8016044.7294.jpg\n",
      "../../data/boots/8027274.372161.jpg\n",
      "../../data/boots/8027310.115329.jpg\n",
      "../../data/boots/8027310.183092.jpg\n",
      "../../data/boots/8112502.2188.jpg\n",
      "../../data/boots/8112502.51140.jpg\n",
      "../../data/boots/8112510.13195.jpg\n",
      "../../data/boots/8112510.515.jpg\n",
      "../../data/boots/8112511.402927.jpg\n",
      "------------------------------------------------------------\n"
     ]
    }
   ],
   "source": [
    "for path, d, filelist in x:\n",
    "    for filename in filelist:\n",
    "        file_glob = os.path.join(path, filename)\n",
    "        print(file_glob)\n",
    "    print(\"---\"*20)"
   ]
  },
  {
   "cell_type": "code",
   "execution_count": null,
   "metadata": {},
   "outputs": [],
   "source": []
  }
 ],
 "metadata": {
  "kernelspec": {
   "display_name": "Python 3",
   "language": "python",
   "name": "python3"
  },
  "language_info": {
   "codemirror_mode": {
    "name": "ipython",
    "version": 3
   },
   "file_extension": ".py",
   "mimetype": "text/x-python",
   "name": "python",
   "nbconvert_exporter": "python",
   "pygments_lexer": "ipython3",
   "version": "3.8.5"
  }
 },
 "nbformat": 4,
 "nbformat_minor": 4
}
